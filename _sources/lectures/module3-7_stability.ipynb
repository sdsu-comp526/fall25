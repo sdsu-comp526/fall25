{
 "cells": [
  {
   "cell_type": "markdown",
   "id": "4159be0e",
   "metadata": {
    "hideCode": false,
    "hidePrompt": false,
    "slideshow": {
     "slide_type": "slide"
    }
   },
   "source": [
    "# 11) Stability\n",
    "\n",
    "\n",
    "## Last time\n",
    "\n",
    "* Newton's method\n",
    "* Convergence of fixed-point method\n",
    "* Different formulation of Newton's method\n",
    "\n",
    "## Today\n",
    "\n",
    " 1. Forward and backward stability  \n",
    " 2. Lax equivalence theorem\n",
    " 3. Recap and Q/A  \n"
   ]
  },
  {
   "cell_type": "code",
   "execution_count": null,
   "id": "eb781a7a",
   "metadata": {
    "slideshow": {
     "slide_type": "skip"
    }
   },
   "outputs": [],
   "source": [
    "using Plots\n",
    "default(linewidth=4, legendfontsize=12)\n"
   ]
  },
  {
   "cell_type": "markdown",
   "id": "2fd4e416",
   "metadata": {
    "cell_style": "split",
    "slideshow": {
     "slide_type": "slide"
    }
   },
   "source": [
    "## 1. Stability\n",
    "\n",
    ":::{admonition} **Activity**:\n",
    "- Read [forward vs backward vs forward-backward stability](https://fncbook.com/stability/#backward-error) and discuss in small groups\n",
    "- Share insights in class discussion\n",
    ":::"
   ]
  },
  {
   "cell_type": "markdown",
   "id": "61c50caa",
   "metadata": {
    "cell_style": "split",
    "slideshow": {
     "slide_type": "slide"
    }
   },
   "source": [
    "<img src=\"https://fncbook.com/build/backwarderror-55621e558c526e24b8fc1d61b00b65a3.svg\" width=\"90%\" />"
   ]
  },
  {
   "cell_type": "markdown",
   "id": "03bc4b23",
   "metadata": {
    "cell_style": "split",
    "slideshow": {
     "slide_type": ""
    }
   },
   "source": [
    "### (Forward) Stability\n",
    "**\"nearly the right answer to nearly the right question\"**\n",
    "$$ \\frac{\\lvert \\tilde f(x) - f(\\tilde x) \\rvert}{| f(\\tilde x) |} \\in O(\\epsilon_{\\text{machine}}) $$\n",
    "for some $\\tilde x$ that is close to $x$\n",
    "\n",
    "### Backward Stability\n",
    "**\"exactly the right answer to nearly the right question\"**\n",
    "$$ \\tilde f(x) = f(\\tilde x) $$\n",
    "for some $\\tilde x$ that is close to $x$\n",
    "\n",
    "Note:\n",
    "* Every backward stable algorithm is ($\\implies$) stable.\n",
    "* Not every stable algorithm is backward stable.\n",
    "* The difference is in the _focus_: forward analysis is concerned with what the method reaches, while backward analysis looks at the problem being solved (which is why we can speak of ill-conditioned methods and ill-conditioned problems). \n",
    "* In a backward stable algorithm the errors introduced during the algorithm have the same effect as a small perturbation in the data. \n",
    "* If the backward error is the same size as any uncertainty in the data then the algorithm produces as good a result as we can expect.\n",
    "\n",
    "#### Reading: [What is Numerical Stability?](https://nhigham.com/2020/08/04/what-is-numerical-stability/)"
   ]
  },
  {
   "cell_type": "markdown",
   "id": "365d2fcd",
   "metadata": {
    "slideshow": {
     "slide_type": "slide"
    }
   },
   "source": [
    "### Accuracy of backward stable algorithms (Theorem)\n",
    "\n",
    "A backward stable algorithm for computing $f(x)$ has relative accuracy\n",
    "$$ \\left\\lvert \\frac{\\tilde f(x) - f(x)}{f(x)} \\right\\rvert \\lesssim \\kappa(f) \\epsilon_{\\text{machine}} . $$\n",
    "Backward stability is generally the best we can hope for.\n",
    "\n",
    "In practice, it is rarely possible for a function to be backward stable when the output space is higher dimensional than the input space."
   ]
  },
  {
   "cell_type": "markdown",
   "id": "fb4dc6af",
   "metadata": {},
   "source": [
    "## 2. Lax equivalence theorem\n",
    "\n",
    "In summary:\n",
    "\n",
    "- **Consistency**: describes how well the numerical scheme aproximates the PDE (if it is at least of order 1 $\\implies$ it is consistent --- The residual reduces under grid refinement).\n",
    "- **Stability**: Numerical stability concerns how errors introduced during the execution of an algorithm affect the result. It is a property of an algorithm rather than the problem being solved (check [Higham's blog](https://nhigham.com/2020/08/04/what-is-numerical-stability/) again). This gets subtle for problems like incompressible materials or contact mechanics.\n",
    "- **Convergence**: When the solution of the approximated equation approaches the actual solution of the continuous equation.\n",
    "\n",
    ":::{admonition} **[Lax equivalence Theorem](https://en.wikipedia.org/wiki/Lax_equivalence_theorem)**:\n",
    ":::\n",
    "\n",
    ">\tConsistency + Convergence $\\implies$ Stability \\\n",
    ">\tConsistency + Stability $\\implies$ Convergence\\\n",
    "Hence, \\\n",
    ">   [**Lax equivalence theorem**](https://sdsu-comp526.github.io/fall25/lectures/module3-7_stability.html):\n",
    ">\tConsistency + Convergence $\\iff $ Stability\n"
   ]
  },
  {
   "cell_type": "markdown",
   "id": "8f5afbbf",
   "metadata": {},
   "source": [
    "## 3. Recap and Q/A\n",
    "\n",
    "### All good, but in praxtice?\n",
    "\n",
    "These are foundational theoretical tools, and can often be tested in practice, but\n",
    "\n",
    "- it doesn't establish that the code works\n",
    "- it's not possible to prove convergence for many real-world problems\n",
    "- there are open research questions about whether numerous important problems are even well-posed\n",
    "\n",
    "### Empirical measurement of convergence\n",
    "\n",
    "Convergence on a problem with an analytical solution:\n",
    "\n",
    "- These can be great, but analytical solutions of nonlinear equations are extremely hard to find.\n",
    "- Such solutions usually have many symmetries and rarely activate all terms.\n",
    "\n",
    "Self-convergence:\n",
    "\n",
    "- Just set up a problem and solve it on a sequence of meshes, use a refined solution as reference (perhaps using Richardson extrapolation), then plot error.\n",
    "- You've checked that the code convergences to _some_ solution, not the _correct_ solution. (You could have a factor of 2 typo, or more serious mistakes.)\n",
    "\n",
    "####\tMethod of Manufactured Solutions (MMS):\n",
    "\n",
    "- Errors that affect solution accuracy can easily be detected.\n",
    "- There are some technical issues with singular or under-resolved problems (shocks, material discontinuities)."
   ]
  }
 ],
 "metadata": {
  "@webio": {
   "lastCommId": "cd1892c1e2064686902fbdf399e6e3e3",
   "lastKernelId": "6eae1736-6531-4224-a6c2-38e7ff163d19"
  },
  "celltoolbar": "Slideshow",
  "hide_code_all_hidden": false,
  "kernelspec": {
   "display_name": "Julia 1.10.4",
   "language": "julia",
   "name": "julia-1.10"
  },
  "language_info": {
   "file_extension": ".jl",
   "mimetype": "application/julia",
   "name": "julia",
   "version": "1.10.4"
  },
  "rise": {
   "enable_chalkboard": true
  }
 },
 "nbformat": 4,
 "nbformat_minor": 5
}
