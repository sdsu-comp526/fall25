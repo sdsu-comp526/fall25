{
 "cells": [
  {
   "cell_type": "markdown",
   "id": "4159be0e",
   "metadata": {
    "hideCode": false,
    "hidePrompt": false,
    "slideshow": {
     "slide_type": "slide"
    }
   },
   "source": [
    "# 8) Function errors\n",
    "\n",
    "\n",
    "## Today\n",
    " 1. Conditioning and well posedness  \n",
    " 2. Relative and absolute errors  \n",
    " 3. Condition number  "
   ]
  },
  {
   "cell_type": "code",
   "execution_count": null,
   "id": "eb781a7a",
   "metadata": {
    "slideshow": {
     "slide_type": "skip"
    }
   },
   "outputs": [],
   "source": [
    "using Plots\n",
    "default(linewidth=4, legendfontsize=12, xtickfontsize=12, ytickfontsize=12)"
   ]
  },
  {
   "cell_type": "markdown",
   "id": "39d5126a",
   "metadata": {
    "slideshow": {
     "slide_type": "slide"
    }
   },
   "source": [
    "## 1. Conditioning and well-posedness\n",
    "\n",
    "We say that a mathematical function $f(x)$ is well conditioned if small changes in $x$ produce small changes in $f(x)$.\n",
    "(What we mean by \"small\" will be made more precise.)\n",
    "\n",
    "The function $f(x)$ may represent a simple expression such as\n",
    "\n",
    "* $f(x) := 2 x$\n",
    "* $f(x) := \\sqrt{x}$\n",
    "* $f(x) := \\log{x}$\n",
    "* $f(x) := x - 1$\n"
   ]
  },
  {
   "cell_type": "markdown",
   "id": "60238618",
   "metadata": {
    "slideshow": {
     "slide_type": "slide"
    }
   },
   "source": [
    "A function may also represent something more complicated, implementable on a computer or by physical experiment.\n",
    "\n",
    "* Find the positive root of the polynomial $t^2 + (1-x)t - x.$\n",
    "* Find the eigenvectors of the matrix\n",
    "$$ A(x) = \\begin{bmatrix} 1 & 1 \\\\ 0 & x \\end{bmatrix} .$$\n",
    "* Find how much the bridge flexes when the truck of mass $x$ drives over it.\n",
    "* Find the length of the rubber band when it finally snaps, as a function of temperature $x$ during manufacturing.\n",
    "* Find the time at which the slope avalanches as a function of the wind speed $x$ during the storm.\n",
    "* Find the probability that the slope avalanches in the next 48 hours as a function of the wind speed $x$ during the storm.\n",
    "* Find the probability that the hurricane makes landfall as a function of the observations $x$.\n"
   ]
  },
  {
   "cell_type": "markdown",
   "id": "5a779d28",
   "metadata": {
    "slideshow": {
     "slide_type": "slide"
    }
   },
   "source": [
    "### Specification\n",
    "\n",
    "* Some of these problems are fully-specified\n",
    "* Others involve sophisticated models and ongoing community research problems.\n",
    "* In some cases, the models that are computable may incur greater uncertainty than the underlying system. In such cases, an analog experiment might produce smoother variation of the output as the problem data $x$ are varied.\n",
    "* In others, the model might be better behaved than what it seeks to model.\n",
    "* Some of these problems may be **ill-posed**"
   ]
  },
  {
   "cell_type": "markdown",
   "id": "d9760456",
   "metadata": {
    "slideshow": {
     "slide_type": "slide"
    }
   },
   "source": [
    "## Well-posedness\n",
    "\n",
    "A problem is said to be [well-posed](https://en.wikipedia.org/wiki/Well-posed_problem) if\n",
    "1. a solution exists,\n",
    "2. the solution is unique, and\n",
    "3. the solution depends continuously on the problem specification.\n",
    "\n",
    "Mathematically, continuous variation in part 3 can be arbitrarily fast, but there may be measurement error, manufacturing tolerances, or incomplete specification in real-world problems, such that we need to quantify part 3.  This is the role of **conditioning**.\n"
   ]
  },
  {
   "cell_type": "markdown",
   "id": "28a74dbe",
   "metadata": {
    "slideshow": {
     "slide_type": "slide"
    }
   },
   "source": [
    "### Example:\n",
    "Computing $e^x$\n",
    "\n",
    "$$ e^x = \\sum_{k=0}^{\\infty} x^k/k! $$"
   ]
  },
  {
   "cell_type": "code",
   "execution_count": null,
   "id": "38eda824",
   "metadata": {
    "cell_style": "split"
   },
   "outputs": [],
   "source": [
    "function myexp(x)\n",
    "    sum = 1\n",
    "    for k in 1:100\n",
    "        sum += x^k / factorial(big(k))\n",
    "    end\n",
    "    return sum\n",
    "end\n",
    "myexp(1) - exp(1)"
   ]
  },
  {
   "cell_type": "code",
   "execution_count": null,
   "id": "ce207605",
   "metadata": {
    "cell_style": "split",
    "slideshow": {
     "slide_type": "fragment"
    }
   },
   "outputs": [],
   "source": [
    "function myexp(x)\n",
    "    sum = 0\n",
    "    term = 1\n",
    "    n = 1\n",
    "    while sum + term != sum\n",
    "        sum += term\n",
    "        term *= x / n\n",
    "        n += 1\n",
    "    end\n",
    "    sum\n",
    "end\n",
    "myexp(1) - exp(1)"
   ]
  },
  {
   "cell_type": "markdown",
   "id": "d739eb20",
   "metadata": {
    "slideshow": {
     "slide_type": "slide"
    }
   },
   "source": [
    "- How accurate is it?"
   ]
  },
  {
   "cell_type": "code",
   "execution_count": null,
   "id": "56f32c76",
   "metadata": {
    "cell_style": "split"
   },
   "outputs": [],
   "source": [
    "plot(myexp, xlims=(-2, 2))"
   ]
  },
  {
   "cell_type": "code",
   "execution_count": null,
   "id": "2133148c",
   "metadata": {
    "cell_style": "split",
    "slideshow": {
     "slide_type": "fragment"
    }
   },
   "outputs": [],
   "source": [
    "plot(exp, xlims=(-1e-15, 1e-15), linestyle=:solid, label = \"exp\")\n",
    "plot!(myexp, xlims=(-1e-15, 1e-15), linestyle=:dash, label=\"myexp\") # the bang operator overlays the second plot in the same figure"
   ]
  },
  {
   "cell_type": "markdown",
   "id": "56094bb3",
   "metadata": {
    "slideshow": {
     "slide_type": "slide"
    }
   },
   "source": [
    "What's happening?\n",
    "\n",
    "* We're computing $f(x) = e^x$ for values of $x$ near zero.\n",
    "* This function is well approximated by $1 + x$.\n",
    "* Values of $y$ near 1 cannot represent every value.\n",
    "* After rounding, the error in our computed output $\\tilde f(x)$ is of order $\\epsilon_{\\text{machine}}$.\n",
    "\n",
    "## 2. Absolute and Relative Errors\n",
    "\n",
    "### Absolute Error\n",
    "$$ \\lvert \\tilde f(x) - f(x) \\rvert $$\n",
    "\n",
    "### Relative Error\n",
    "$$ \\frac{\\lvert \\tilde f(x) - f(x) \\rvert}{\\lvert f(x) \\rvert} $$"
   ]
  },
  {
   "cell_type": "markdown",
   "id": "92851225",
   "metadata": {
    "slideshow": {
     "slide_type": "slide"
    }
   },
   "source": [
    "Suppose I want to compute $e^x - 1$"
   ]
  },
  {
   "cell_type": "code",
   "execution_count": null,
   "id": "e5804690",
   "metadata": {
    "cell_style": "split",
    "slideshow": {
     "slide_type": ""
    }
   },
   "outputs": [],
   "source": [
    "plot([x -> myexp(x) - 1 , x -> x],\n",
    "     xlims=(-1e-15, 1e-15), label=[\"myexp\" \"y=x\"])"
   ]
  },
  {
   "cell_type": "markdown",
   "id": "2f3ddc22",
   "metadata": {
    "cell_style": "split"
   },
   "source": [
    "What now?\n",
    "\n",
    "* We're capable of representing outputs with 16 digits of accuracy\n",
    "* Yet our algorithm `myexp(x) - 1` can't find them\n",
    "* We can't recover without modifying our code"
   ]
  },
  {
   "cell_type": "markdown",
   "id": "81112539",
   "metadata": {
    "slideshow": {
     "slide_type": "slide"
    }
   },
   "source": [
    "Modify the code"
   ]
  },
  {
   "cell_type": "code",
   "execution_count": null,
   "id": "29f73718",
   "metadata": {
    "cell_style": "split",
    "slideshow": {
     "slide_type": ""
    }
   },
   "outputs": [],
   "source": [
    "function myexpm1(x)\n",
    "    sum = 0\n",
    "    term = x\n",
    "    n = 2\n",
    "    while sum + term != sum\n",
    "        sum += term\n",
    "        term *= x / n\n",
    "        n += 1\n",
    "    end\n",
    "    sum\n",
    "end"
   ]
  },
  {
   "cell_type": "code",
   "execution_count": null,
   "id": "45b110f9",
   "metadata": {
    "cell_style": "split",
    "slideshow": {
     "slide_type": ""
    }
   },
   "outputs": [],
   "source": [
    "plot(myexpm1, xlims=(-1e-15, 1e-15), label=\"myexpm1\")"
   ]
  },
  {
   "cell_type": "markdown",
   "id": "fa3a7b9c",
   "metadata": {
    "slideshow": {
     "slide_type": "slide"
    }
   },
   "source": [
    "### Plot relative error"
   ]
  },
  {
   "cell_type": "code",
   "execution_count": null,
   "id": "132a026f",
   "metadata": {},
   "outputs": [],
   "source": [
    "function relerror(x, f, f_ref)\n",
    "    fx = f(x)\n",
    "    fx_ref = f_ref(x)\n",
    "    max(abs(fx - fx_ref) / abs(fx_ref), 1e-17)\n",
    "end\n",
    "badexpm1(t) = exp(t) - 1\n",
    "plot(x -> relerror(x, badexpm1, expm1), yscale=:log10, xrange=(-1e-15, 1e-15), label = \"rel error\")"
   ]
  },
  {
   "cell_type": "markdown",
   "id": "adc22a07",
   "metadata": {
    "slideshow": {
     "slide_type": "slide"
    }
   },
   "source": [
    "### Floating point representation is **relative** (see [float.exposed](https://float.exposed))\n",
    "\n",
    "<img src=\"https://upload.wikimedia.org/wikipedia/commons/a/a9/IEEE_754_Double_Floating_Point_Format.svg\" width=\"80%\" />"
   ]
  },
  {
   "cell_type": "markdown",
   "id": "2022fd10",
   "metadata": {
    "cell_style": "split",
    "slideshow": {
     "slide_type": ""
    }
   },
   "source": [
    "Let $\\operatorname{fl}$ round to the nearest floating point number.\n",
    "\n",
    "$$ \\operatorname{fl}(x) = x (1 + \\epsilon), \\quad \\text{where} |\\epsilon| \\le \\epsilon_{\\text{machine}} $$\n",
    "\n",
    "This also means that the relative error in representing $x$ is small:\n",
    "\n",
    "$$ \\frac{|\\operatorname{fl}(x) - x|}{|x|} \\le \\epsilon_{\\text{machine}} $$"
   ]
  },
  {
   "cell_type": "code",
   "execution_count": null,
   "id": "9007ab67",
   "metadata": {
    "cell_style": "split",
    "scrolled": true
   },
   "outputs": [],
   "source": [
    "plot(x -> (1 + x) - 1, xlims=(-1e-15, 1e-15), label = \"y = 1 + x - 1\")\n",
    "plot!(x -> x, label=\"y = x\")"
   ]
  },
  {
   "cell_type": "markdown",
   "id": "415173a8",
   "metadata": {
    "slideshow": {
     "slide_type": "slide"
    }
   },
   "source": [
    "### Exact arithmetic, correctly rounded"
   ]
  },
  {
   "cell_type": "markdown",
   "id": "3d1fcc95",
   "metadata": {
    "cell_style": "split",
    "slideshow": {
     "slide_type": ""
    }
   },
   "source": [
    "Take an elementary math operation $*$ (addition, subtraction, multiplication, division), and the discrete operation that our computers perform, $\\circledast$. Then\n",
    "\n",
    "$$x \\circledast y := \\operatorname{fl}(x * y)$$\n",
    "\n",
    "with a relative accuracy $\\epsilon_{\\text{machine}}$,\n",
    "\n",
    "$$ \\frac{|(x \\circledast y) - (x * y)|}{|x * y|} \\le \\epsilon_{\\text{machine}} . $$"
   ]
  },
  {
   "cell_type": "markdown",
   "id": "d5df8583",
   "metadata": {
    "cell_style": "split",
    "slideshow": {
     "slide_type": "fragment"
    }
   },
   "source": [
    "### How do operations compose?\n",
    "\n",
    "Is this true?\n",
    "\n",
    "$$ \\frac{\\Big\\lvert \\big((x \\circledast y) \\circledast z\\big) - \\big((x * y) * z\\big) \\Big\\rvert}{|(x * y) * z|} \\le^? \\epsilon_{\\text{machine}} $$"
   ]
  },
  {
   "cell_type": "code",
   "execution_count": null,
   "id": "fb3c12ce",
   "metadata": {
    "cell_style": "split",
    "slideshow": {
     "slide_type": "fragment"
    }
   },
   "outputs": [],
   "source": [
    "f(x; y=1, z=-1) = (x+y)+z # The best arbitrary numbers are 0, 1, and -1\n",
    "plot(x -> abs(f(x) - x)/abs(x), xlims=(-1e-15, 1e-15), label = \"abs(f(x) - x)/abs(x)\")"
   ]
  },
  {
   "cell_type": "markdown",
   "id": "a2c8666b",
   "metadata": {
    "slideshow": {
     "slide_type": "slide"
    }
   },
   "source": [
    "## 3. Condition number\n",
    "\n",
    "> What sort of functions cause small errors to become big?\n",
    "\n",
    "Consider a function $f: X \\to Y$ and define the **absolute condition number**\n",
    "$$ \\hat\\kappa = \\lim_{\\delta \\to 0} \\max_{|\\delta x| < \\delta} \\frac{|f(x + \\delta x) - f(x)|}{|\\delta x|} = \\max_{\\delta x} \\frac{|\\delta f|}{|\\delta x|}. $$\n",
    "If $f$ is differentiable, then $\\hat\\kappa = |f'(x)|$.\n",
    "\n",
    "Floating point offers relative accuracy, so it's more useful to discuss **relative condition number**,\n",
    "$$ \\kappa = \\max_{\\delta x} \\frac{|\\delta f|/|f|}{|\\delta x|/|x|}\n",
    "= \\max_{\\delta x} \\Big[ \\frac{|\\delta f|/|\\delta x|}{|f| / |x|} \\Big] $$\n",
    "or, if $f$ is differentiable,\n",
    "$$ \\kappa = |f'(x)| \\frac{|x|}{|f|} . $$"
   ]
  }
 ],
 "metadata": {
  "celltoolbar": "Slideshow",
  "hide_code_all_hidden": false,
  "kernelspec": {
   "display_name": "Julia 1.10.4",
   "language": "julia",
   "name": "julia-1.10"
  },
  "language_info": {
   "file_extension": ".jl",
   "mimetype": "application/julia",
   "name": "julia",
   "version": "1.10.4"
  },
  "rise": {
   "enable_chalkboard": true
  }
 },
 "nbformat": 4,
 "nbformat_minor": 5
}
